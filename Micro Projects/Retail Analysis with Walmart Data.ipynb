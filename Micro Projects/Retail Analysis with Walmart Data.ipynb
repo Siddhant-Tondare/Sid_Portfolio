{
 "cells": [
  {
   "cell_type": "markdown",
   "id": "ea8f15cd",
   "metadata": {},
   "source": [
    "\n",
    "\n",
    "**Retail Analysis with Walmart Data**\n",
    "\n",
    "DESCRIPTION\n",
    "\n",
    "One of the leading retail stores in the US, Walmart, would like to predict the sales and demand accurately. There are certain events and holidays which impact sales on each day. There are sales data available for 45 stores of Walmart. The business is facing a challenge due to unforeseen demands and runs out of stock some times, due to the inappropriate machine learning algorithm. An ideal ML algorithm will predict demand accurately and ingest factors like economic conditions including CPI, Unemployment Index, etc.\n",
    "\n",
    "Walmart runs several promotional markdown events throughout the year. These markdowns precede prominent holidays, the four largest of all, which are the Super Bowl, Labour Day, Thanksgiving, and Christmas. The weeks including these holidays are weighted five times higher in the evaluation than non-holiday weeks. Part of the challenge presented by this competition is modeling the effects of markdowns on these holiday weeks in the absence of complete/ideal historical data. Historical sales data for 45 Walmart stores located in different regions are available.\n",
    "\n",
    "Dataset Description\n",
    "\n",
    "This is the historical data that covers sales from 2010-02-05 to 2012-11-01, in the file Walmart_Store_sales. Within this file you will find the following fields:\n",
    "\n",
    "* Store - the store number\n",
    "\n",
    "* Date - the week of sales\n",
    "\n",
    "* Weekly_Sales -  sales for the given store\n",
    "\n",
    "* Holiday_Flag - whether the week is a special holiday week 1 – Holiday week 0 – Non-holiday week\n",
    "\n",
    "* Temperature - Temperature on the day of sale\n",
    "\n",
    "* Fuel_Price - Cost of fuel in the region\n",
    "\n",
    "* CPI – Prevailing consumer price index\n",
    "\n",
    "* Unemployment - Prevailing unemployment rate\n",
    "\n",
    "Holiday Events\n",
    "\n",
    "Super Bowl: 12-Feb-10, 11-Feb-11, 10-Feb-12, 8-Feb-13\n",
    "Labour Day: 10-Sep-10, 9-Sep-11, 7-Sep-12, 6-Sep-13\n",
    "Thanksgiving: 26-Nov-10, 25-Nov-11, 23-Nov-12, 29-Nov-13\n",
    "Christmas: 31-Dec-10, 30-Dec-11, 28-Dec-12, 27-Dec-13\n",
    "\n",
    "Analysis Tasks\n",
    "\n",
    "Basic Statistics tasks\n",
    "\n",
    "* Which store has maximum sales\n",
    "\n",
    "* Which store has maximum standard deviation i.e., the sales vary a lot. Also, find out the coefficient of mean to standard   deviation\n",
    "\n",
    "* Which store/s has good quarterly growth rate in Q3’2012\n",
    "\n",
    "* Some holidays have a negative impact on sales. Find out holidays which have higher sales than the mean sales in non-holiday season for all stores together\n",
    "\n",
    "* Provide a monthly and semester view of sales in units and give insights\n",
    "\n",
    "Statistical Model\n",
    "\n",
    "For Store 1 – Build  prediction models to forecast demand\n",
    "\n",
    "* Linear Regression – Utilize variables like date and restructure dates as 1 for 5 Feb 2010 (starting from the earliest date in order). Hypothesize if CPI, unemployment, and fuel price have any impact on sales.\n",
    "\n",
    "* Change dates into days by creating new variable.\n",
    "\n",
    "**Select the model which gives best accuracy.**\n",
    "\n",
    "   * * *"
   ]
  },
  {
   "cell_type": "code",
   "execution_count": 1,
   "id": "6d47ea95",
   "metadata": {},
   "outputs": [],
   "source": [
    "import numpy as np \n",
    "import pandas as pd \n",
    "import matplotlib.pyplot as plt\n",
    "%matplotlib inline\n",
    "import sklearn as sn\n",
    "import seaborn as sns"
   ]
  },
  {
   "cell_type": "code",
   "execution_count": 2,
   "id": "665be3ee",
   "metadata": {},
   "outputs": [],
   "source": [
    "walmart_data = pd.read_csv ('Walmart_store_sales.csv')"
   ]
  },
  {
   "cell_type": "code",
   "execution_count": 3,
   "id": "d44f3eba",
   "metadata": {},
   "outputs": [
    {
     "data": {
      "text/html": [
       "<div>\n",
       "<style scoped>\n",
       "    .dataframe tbody tr th:only-of-type {\n",
       "        vertical-align: middle;\n",
       "    }\n",
       "\n",
       "    .dataframe tbody tr th {\n",
       "        vertical-align: top;\n",
       "    }\n",
       "\n",
       "    .dataframe thead th {\n",
       "        text-align: right;\n",
       "    }\n",
       "</style>\n",
       "<table border=\"1\" class=\"dataframe\">\n",
       "  <thead>\n",
       "    <tr style=\"text-align: right;\">\n",
       "      <th></th>\n",
       "      <th>Store</th>\n",
       "      <th>Date</th>\n",
       "      <th>Weekly_Sales</th>\n",
       "      <th>Holiday_Flag</th>\n",
       "      <th>Temperature</th>\n",
       "      <th>Fuel_Price</th>\n",
       "      <th>CPI</th>\n",
       "      <th>Unemployment</th>\n",
       "    </tr>\n",
       "  </thead>\n",
       "  <tbody>\n",
       "    <tr>\n",
       "      <th>0</th>\n",
       "      <td>1</td>\n",
       "      <td>05-02-2010</td>\n",
       "      <td>1643690.90</td>\n",
       "      <td>0</td>\n",
       "      <td>42.31</td>\n",
       "      <td>2.572</td>\n",
       "      <td>211.096358</td>\n",
       "      <td>8.106</td>\n",
       "    </tr>\n",
       "    <tr>\n",
       "      <th>1</th>\n",
       "      <td>1</td>\n",
       "      <td>12-02-2010</td>\n",
       "      <td>1641957.44</td>\n",
       "      <td>1</td>\n",
       "      <td>38.51</td>\n",
       "      <td>2.548</td>\n",
       "      <td>211.242170</td>\n",
       "      <td>8.106</td>\n",
       "    </tr>\n",
       "    <tr>\n",
       "      <th>2</th>\n",
       "      <td>1</td>\n",
       "      <td>19-02-2010</td>\n",
       "      <td>1611968.17</td>\n",
       "      <td>0</td>\n",
       "      <td>39.93</td>\n",
       "      <td>2.514</td>\n",
       "      <td>211.289143</td>\n",
       "      <td>8.106</td>\n",
       "    </tr>\n",
       "    <tr>\n",
       "      <th>3</th>\n",
       "      <td>1</td>\n",
       "      <td>26-02-2010</td>\n",
       "      <td>1409727.59</td>\n",
       "      <td>0</td>\n",
       "      <td>46.63</td>\n",
       "      <td>2.561</td>\n",
       "      <td>211.319643</td>\n",
       "      <td>8.106</td>\n",
       "    </tr>\n",
       "    <tr>\n",
       "      <th>4</th>\n",
       "      <td>1</td>\n",
       "      <td>05-03-2010</td>\n",
       "      <td>1554806.68</td>\n",
       "      <td>0</td>\n",
       "      <td>46.50</td>\n",
       "      <td>2.625</td>\n",
       "      <td>211.350143</td>\n",
       "      <td>8.106</td>\n",
       "    </tr>\n",
       "  </tbody>\n",
       "</table>\n",
       "</div>"
      ],
      "text/plain": [
       "   Store        Date  Weekly_Sales  Holiday_Flag  Temperature  Fuel_Price  \\\n",
       "0      1  05-02-2010    1643690.90             0        42.31       2.572   \n",
       "1      1  12-02-2010    1641957.44             1        38.51       2.548   \n",
       "2      1  19-02-2010    1611968.17             0        39.93       2.514   \n",
       "3      1  26-02-2010    1409727.59             0        46.63       2.561   \n",
       "4      1  05-03-2010    1554806.68             0        46.50       2.625   \n",
       "\n",
       "          CPI  Unemployment  \n",
       "0  211.096358         8.106  \n",
       "1  211.242170         8.106  \n",
       "2  211.289143         8.106  \n",
       "3  211.319643         8.106  \n",
       "4  211.350143         8.106  "
      ]
     },
     "execution_count": 3,
     "metadata": {},
     "output_type": "execute_result"
    }
   ],
   "source": [
    "walmart_data.head()"
   ]
  },
  {
   "cell_type": "code",
   "execution_count": 5,
   "id": "3ee44659",
   "metadata": {},
   "outputs": [
    {
     "data": {
      "text/html": [
       "<div>\n",
       "<style scoped>\n",
       "    .dataframe tbody tr th:only-of-type {\n",
       "        vertical-align: middle;\n",
       "    }\n",
       "\n",
       "    .dataframe tbody tr th {\n",
       "        vertical-align: top;\n",
       "    }\n",
       "\n",
       "    .dataframe thead th {\n",
       "        text-align: right;\n",
       "    }\n",
       "</style>\n",
       "<table border=\"1\" class=\"dataframe\">\n",
       "  <thead>\n",
       "    <tr style=\"text-align: right;\">\n",
       "      <th></th>\n",
       "      <th>Store</th>\n",
       "      <th>Weekly_Sales</th>\n",
       "      <th>Holiday_Flag</th>\n",
       "      <th>Temperature</th>\n",
       "      <th>Fuel_Price</th>\n",
       "      <th>CPI</th>\n",
       "      <th>Unemployment</th>\n",
       "    </tr>\n",
       "  </thead>\n",
       "  <tbody>\n",
       "    <tr>\n",
       "      <th>count</th>\n",
       "      <td>6435.000000</td>\n",
       "      <td>6.435000e+03</td>\n",
       "      <td>6435.000000</td>\n",
       "      <td>6435.000000</td>\n",
       "      <td>6435.000000</td>\n",
       "      <td>6435.000000</td>\n",
       "      <td>6435.000000</td>\n",
       "    </tr>\n",
       "    <tr>\n",
       "      <th>mean</th>\n",
       "      <td>23.000000</td>\n",
       "      <td>1.046965e+06</td>\n",
       "      <td>0.069930</td>\n",
       "      <td>60.663782</td>\n",
       "      <td>3.358607</td>\n",
       "      <td>171.578394</td>\n",
       "      <td>7.999151</td>\n",
       "    </tr>\n",
       "    <tr>\n",
       "      <th>std</th>\n",
       "      <td>12.988182</td>\n",
       "      <td>5.643666e+05</td>\n",
       "      <td>0.255049</td>\n",
       "      <td>18.444933</td>\n",
       "      <td>0.459020</td>\n",
       "      <td>39.356712</td>\n",
       "      <td>1.875885</td>\n",
       "    </tr>\n",
       "    <tr>\n",
       "      <th>min</th>\n",
       "      <td>1.000000</td>\n",
       "      <td>2.099862e+05</td>\n",
       "      <td>0.000000</td>\n",
       "      <td>-2.060000</td>\n",
       "      <td>2.472000</td>\n",
       "      <td>126.064000</td>\n",
       "      <td>3.879000</td>\n",
       "    </tr>\n",
       "    <tr>\n",
       "      <th>25%</th>\n",
       "      <td>12.000000</td>\n",
       "      <td>5.533501e+05</td>\n",
       "      <td>0.000000</td>\n",
       "      <td>47.460000</td>\n",
       "      <td>2.933000</td>\n",
       "      <td>131.735000</td>\n",
       "      <td>6.891000</td>\n",
       "    </tr>\n",
       "    <tr>\n",
       "      <th>50%</th>\n",
       "      <td>23.000000</td>\n",
       "      <td>9.607460e+05</td>\n",
       "      <td>0.000000</td>\n",
       "      <td>62.670000</td>\n",
       "      <td>3.445000</td>\n",
       "      <td>182.616521</td>\n",
       "      <td>7.874000</td>\n",
       "    </tr>\n",
       "    <tr>\n",
       "      <th>75%</th>\n",
       "      <td>34.000000</td>\n",
       "      <td>1.420159e+06</td>\n",
       "      <td>0.000000</td>\n",
       "      <td>74.940000</td>\n",
       "      <td>3.735000</td>\n",
       "      <td>212.743293</td>\n",
       "      <td>8.622000</td>\n",
       "    </tr>\n",
       "    <tr>\n",
       "      <th>max</th>\n",
       "      <td>45.000000</td>\n",
       "      <td>3.818686e+06</td>\n",
       "      <td>1.000000</td>\n",
       "      <td>100.140000</td>\n",
       "      <td>4.468000</td>\n",
       "      <td>227.232807</td>\n",
       "      <td>14.313000</td>\n",
       "    </tr>\n",
       "  </tbody>\n",
       "</table>\n",
       "</div>"
      ],
      "text/plain": [
       "             Store  Weekly_Sales  Holiday_Flag  Temperature   Fuel_Price  \\\n",
       "count  6435.000000  6.435000e+03   6435.000000  6435.000000  6435.000000   \n",
       "mean     23.000000  1.046965e+06      0.069930    60.663782     3.358607   \n",
       "std      12.988182  5.643666e+05      0.255049    18.444933     0.459020   \n",
       "min       1.000000  2.099862e+05      0.000000    -2.060000     2.472000   \n",
       "25%      12.000000  5.533501e+05      0.000000    47.460000     2.933000   \n",
       "50%      23.000000  9.607460e+05      0.000000    62.670000     3.445000   \n",
       "75%      34.000000  1.420159e+06      0.000000    74.940000     3.735000   \n",
       "max      45.000000  3.818686e+06      1.000000   100.140000     4.468000   \n",
       "\n",
       "               CPI  Unemployment  \n",
       "count  6435.000000   6435.000000  \n",
       "mean    171.578394      7.999151  \n",
       "std      39.356712      1.875885  \n",
       "min     126.064000      3.879000  \n",
       "25%     131.735000      6.891000  \n",
       "50%     182.616521      7.874000  \n",
       "75%     212.743293      8.622000  \n",
       "max     227.232807     14.313000  "
      ]
     },
     "execution_count": 5,
     "metadata": {},
     "output_type": "execute_result"
    }
   ],
   "source": [
    "walmart_data.describe()"
   ]
  },
  {
   "cell_type": "code",
   "execution_count": 6,
   "id": "1263e3a1",
   "metadata": {},
   "outputs": [
    {
     "name": "stdout",
     "output_type": "stream",
     "text": [
      "Store Number 20 has maximum Sales. Sum of Total Sales 301397792.46000004\n"
     ]
    }
   ],
   "source": [
    "walmart_data_groupby = walmart_data.groupby('Store')['Weekly_Sales'].sum()\n",
    "print(\"Store Number {} has maximum Sales. Sum of Total Sales {}\".format(walmart_data_groupby.idxmax(),walmart_data_groupby.max()))"
   ]
  },
  {
   "cell_type": "code",
   "execution_count": 29,
   "id": "85d8b393",
   "metadata": {},
   "outputs": [
    {
     "name": "stdout",
     "output_type": "stream",
     "text": [
      "Store Number 14 has maximum Standard Deviation. STD = 317569.9494755081\n"
     ]
    }
   ],
   "source": [
    "walmart_data_std = walmart_data.groupby('Store').agg({'Weekly_Sales':'std'})\n",
    "print(\"Store Number {} has maximum Standard Deviation. STD = {}\".format(walmart_data_std['Weekly_Sales'].idxmax(),walmart_data_std['Weekly_Sales'].max()))"
   ]
  },
  {
   "cell_type": "code",
   "execution_count": 8,
   "id": "8f407435",
   "metadata": {},
   "outputs": [
    {
     "data": {
      "text/html": [
       "<div>\n",
       "<style scoped>\n",
       "    .dataframe tbody tr th:only-of-type {\n",
       "        vertical-align: middle;\n",
       "    }\n",
       "\n",
       "    .dataframe tbody tr th {\n",
       "        vertical-align: top;\n",
       "    }\n",
       "\n",
       "    .dataframe thead tr th {\n",
       "        text-align: left;\n",
       "    }\n",
       "\n",
       "    .dataframe thead tr:last-of-type th {\n",
       "        text-align: right;\n",
       "    }\n",
       "</style>\n",
       "<table border=\"1\" class=\"dataframe\">\n",
       "  <thead>\n",
       "    <tr>\n",
       "      <th></th>\n",
       "      <th colspan=\"2\" halign=\"left\">Weekly_Sales</th>\n",
       "    </tr>\n",
       "    <tr>\n",
       "      <th></th>\n",
       "      <th>mean</th>\n",
       "      <th>std</th>\n",
       "    </tr>\n",
       "    <tr>\n",
       "      <th>Store</th>\n",
       "      <th></th>\n",
       "      <th></th>\n",
       "    </tr>\n",
       "  </thead>\n",
       "  <tbody>\n",
       "    <tr>\n",
       "      <th>1</th>\n",
       "      <td>1.555264e+06</td>\n",
       "      <td>155980.767761</td>\n",
       "    </tr>\n",
       "    <tr>\n",
       "      <th>2</th>\n",
       "      <td>1.925751e+06</td>\n",
       "      <td>237683.694682</td>\n",
       "    </tr>\n",
       "    <tr>\n",
       "      <th>3</th>\n",
       "      <td>4.027044e+05</td>\n",
       "      <td>46319.631557</td>\n",
       "    </tr>\n",
       "    <tr>\n",
       "      <th>4</th>\n",
       "      <td>2.094713e+06</td>\n",
       "      <td>266201.442297</td>\n",
       "    </tr>\n",
       "    <tr>\n",
       "      <th>5</th>\n",
       "      <td>3.180118e+05</td>\n",
       "      <td>37737.965745</td>\n",
       "    </tr>\n",
       "  </tbody>\n",
       "</table>\n",
       "</div>"
      ],
      "text/plain": [
       "       Weekly_Sales               \n",
       "               mean            std\n",
       "Store                             \n",
       "1      1.555264e+06  155980.767761\n",
       "2      1.925751e+06  237683.694682\n",
       "3      4.027044e+05   46319.631557\n",
       "4      2.094713e+06  266201.442297\n",
       "5      3.180118e+05   37737.965745"
      ]
     },
     "execution_count": 8,
     "metadata": {},
     "output_type": "execute_result"
    }
   ],
   "source": [
    "walmart_data_std = walmart_data.groupby('Store').agg({'Weekly_Sales':['mean','std']})\n",
    "walmart_data_std.head()"
   ]
  },
  {
   "cell_type": "code",
   "execution_count": 9,
   "id": "e108a33c",
   "metadata": {},
   "outputs": [
    {
     "name": "stdout",
     "output_type": "stream",
     "text": [
      "Store Number 4 has Good Quartely Growth in Q3'2012 25652119.35\n"
     ]
    }
   ],
   "source": [
    "walmart_data_Q32012 = walmart_data[(pd.to_datetime(walmart_data['Date']) >= pd.to_datetime('07-01-2012')) & \n",
    "(pd.to_datetime(walmart_data['Date']) <= pd.to_datetime('09-30-2012'))]\n",
    "walmart_data_growth = walmart_data_Q32012.groupby(['Store'])['Weekly_Sales'].sum()\n",
    "print(\"Store Number {} has Good Quartely Growth in Q3'2012 {}\".format(walmart_data_growth.idxmax(),walmart_data_growth.max()))"
   ]
  },
  {
   "cell_type": "code",
   "execution_count": 10,
   "id": "94cb0c39",
   "metadata": {},
   "outputs": [],
   "source": [
    "stores_holiday_sales = walmart_data[walmart_data['Holiday_Flag'] == 1]"
   ]
  },
  {
   "cell_type": "code",
   "execution_count": 11,
   "id": "7669b165",
   "metadata": {},
   "outputs": [],
   "source": [
    "stores_nonholiday_sales = walmart_data[walmart_data['Holiday_Flag'] == 0]"
   ]
  },
  {
   "cell_type": "code",
   "execution_count": 12,
   "id": "52261d5b",
   "metadata": {},
   "outputs": [],
   "source": [
    "#Stores Sales in Super Bowl Day\n",
    "#Super Bowl: 12-Feb-10, 11-Feb-11, 10-Feb-12, 8-Feb-13\n",
    "stores_holiday_sales_superBowl = stores_holiday_sales[(pd.to_datetime(stores_holiday_sales['Date']) == \n",
    "pd.to_datetime('12-02-2010'))|(pd.to_datetime(stores_holiday_sales['Date']) == \n",
    "pd.to_datetime('11-02-2011'))|(pd.to_datetime(stores_holiday_sales['Date']) == \n",
    "pd.to_datetime('10-02-2012'))|(pd.to_datetime(stores_holiday_sales['Date']) == pd.to_datetime('08-02-2013'))]"
   ]
  },
  {
   "cell_type": "code",
   "execution_count": 13,
   "id": "410711bd",
   "metadata": {},
   "outputs": [],
   "source": [
    "#Stores Sales in Labour Day\n",
    "#Labour Day: 10-Sep-10, 9-Sep-11, 7-Sep-12, 6-Sep-13\n",
    "stores_holiday_sales_labourDay = stores_holiday_sales[(pd.to_datetime(stores_holiday_sales['Date']) == \n",
    "pd.to_datetime('10-09-2010'))|(pd.to_datetime(stores_holiday_sales['Date']) == \n",
    "pd.to_datetime('09-09-2011'))|(pd.to_datetime(stores_holiday_sales['Date']) == \n",
    "pd.to_datetime('07-09-2012'))|(pd.to_datetime(stores_holiday_sales['Date']) == pd.to_datetime('06-09-2013'))]"
   ]
  },
  {
   "cell_type": "code",
   "execution_count": 14,
   "id": "f1651d1b",
   "metadata": {},
   "outputs": [],
   "source": [
    "#Stores Sales in Thanks Giving\n",
    "#Thanksgiving: 26-Nov-10, 25-Nov-11, 23-Nov-12, 29-Nov-13\n",
    "stores_holiday_sales_thanksgiving = stores_holiday_sales[(pd.to_datetime(stores_holiday_sales['Date']) == \n",
    "pd.to_datetime('26-11-2010'))|(pd.to_datetime(stores_holiday_sales['Date']) == \n",
    "pd.to_datetime('25-11-2011'))|(pd.to_datetime(stores_holiday_sales['Date']) ==\n",
    "pd.to_datetime('23-11-2012'))|(pd.to_datetime(stores_holiday_sales['Date']) == pd.to_datetime('29-11-2013'))]"
   ]
  },
  {
   "cell_type": "code",
   "execution_count": 15,
   "id": "e5f3b599",
   "metadata": {},
   "outputs": [],
   "source": [
    "#Stores Sales in Christmas\n",
    "# Christmas: 31-Dec-10, 30-Dec-11, 28-Dec-12, 27-Dec-13\n",
    "stores_holiday_sales_Christmas = stores_holiday_sales[(pd.to_datetime(stores_holiday_sales['Date']) == \n",
    "pd.to_datetime('31-12-2010'))|(pd.to_datetime(stores_holiday_sales['Date']) == \n",
    "pd.to_datetime('30-12-2011'))|(pd.to_datetime(stores_holiday_sales['Date']) == \n",
    "pd.to_datetime('28-12-2012'))|(pd.to_datetime(stores_holiday_sales['Date']) == pd.to_datetime('27-12-2013'))]\n",
    "stores_nonholiday_sales_mean = stores_nonholiday_sales.groupby(['Date']).agg({'Weekly_Sales':'mean'}).reset_index()\n",
    "stores_holiday_sales_sum = stores_holiday_sales.groupby(['Date']).agg({'Weekly_Sales':'sum'}).reset_index()"
   ]
  },
  {
   "cell_type": "code",
   "execution_count": 16,
   "id": "62502e48",
   "metadata": {},
   "outputs": [
    {
     "name": "stdout",
     "output_type": "stream",
     "text": [
      "On this Date 07-09-2012 Holiday Sales is greater than Non Holiday Sales and the Sales :- 48330059.31\n",
      "On this Date 09-09-2011 Holiday Sales is greater than Non Holiday Sales and the Sales :- 46763227.529999994\n",
      "On this Date 10-02-2012 Holiday Sales is greater than Non Holiday Sales and the Sales :- 50009407.919999994\n",
      "On this Date 10-09-2010 Holiday Sales is greater than Non Holiday Sales and the Sales :- 45634397.84\n",
      "On this Date 11-02-2011 Holiday Sales is greater than Non Holiday Sales and the Sales :- 47336192.79000002\n",
      "On this Date 12-02-2010 Holiday Sales is greater than Non Holiday Sales and the Sales :- 48336677.63000002\n",
      "On this Date 25-11-2011 Holiday Sales is greater than Non Holiday Sales and the Sales :- 66593605.25999998\n",
      "On this Date 26-11-2010 Holiday Sales is greater than Non Holiday Sales and the Sales :- 65821003.23999999\n",
      "On this Date 30-12-2011 Holiday Sales is greater than Non Holiday Sales and the Sales :- 46042461.04000001\n",
      "On this Date 31-12-2010 Holiday Sales is greater than Non Holiday Sales and the Sales :- 40432519.0\n"
     ]
    }
   ],
   "source": [
    "for row in stores_holiday_sales_sum.itertuples():\n",
    "    for row1 in stores_nonholiday_sales_mean.itertuples():\n",
    "        if row.Weekly_Sales > row1.Weekly_Sales:\n",
    "            print(\"On this Date {} Holiday Sales is greater than Non Holiday Sales and the Sales :- {}\".format(row.Date,row.Weekly_Sales))\n",
    "            break;"
   ]
  },
  {
   "cell_type": "code",
   "execution_count": 31,
   "id": "06c79da4",
   "metadata": {},
   "outputs": [
    {
     "name": "stdout",
     "output_type": "stream",
     "text": [
      "Super Bowl Day Sale   =  145682278.34\n",
      "Labour Day Sale       =  140727684.68\n",
      "Thanksgiving Day Sale =  132414608.5\n",
      "Christmas Day Sale    =  86474980.03999999\n"
     ]
    }
   ],
   "source": [
    "print(\"Super Bowl Day Sale   = \",stores_holiday_sales_superBowl['Weekly_Sales'].sum())\n",
    "print(\"Labour Day Sale       = \",stores_holiday_sales_labourDay['Weekly_Sales'].sum())\n",
    "print(\"Thanksgiving Day Sale = \",stores_holiday_sales_thanksgiving['Weekly_Sales'].sum())\n",
    "print(\"Christmas Day Sale    = \",stores_holiday_sales_Christmas['Weekly_Sales'].sum())"
   ]
  },
  {
   "cell_type": "code",
   "execution_count": 18,
   "id": "53c859f8",
   "metadata": {},
   "outputs": [
    {
     "data": {
      "text/html": [
       "<div>\n",
       "<style scoped>\n",
       "    .dataframe tbody tr th:only-of-type {\n",
       "        vertical-align: middle;\n",
       "    }\n",
       "\n",
       "    .dataframe tbody tr th {\n",
       "        vertical-align: top;\n",
       "    }\n",
       "\n",
       "    .dataframe thead th {\n",
       "        text-align: right;\n",
       "    }\n",
       "</style>\n",
       "<table border=\"1\" class=\"dataframe\">\n",
       "  <thead>\n",
       "    <tr style=\"text-align: right;\">\n",
       "      <th></th>\n",
       "      <th>Store</th>\n",
       "      <th>Date</th>\n",
       "    </tr>\n",
       "  </thead>\n",
       "  <tbody>\n",
       "    <tr>\n",
       "      <th>0</th>\n",
       "      <td>1</td>\n",
       "      <td>1</td>\n",
       "    </tr>\n",
       "    <tr>\n",
       "      <th>1</th>\n",
       "      <td>1</td>\n",
       "      <td>2</td>\n",
       "    </tr>\n",
       "    <tr>\n",
       "      <th>2</th>\n",
       "      <td>1</td>\n",
       "      <td>3</td>\n",
       "    </tr>\n",
       "    <tr>\n",
       "      <th>3</th>\n",
       "      <td>1</td>\n",
       "      <td>4</td>\n",
       "    </tr>\n",
       "    <tr>\n",
       "      <th>4</th>\n",
       "      <td>1</td>\n",
       "      <td>5</td>\n",
       "    </tr>\n",
       "  </tbody>\n",
       "</table>\n",
       "</div>"
      ],
      "text/plain": [
       "   Store  Date\n",
       "0      1     1\n",
       "1      1     2\n",
       "2      1     3\n",
       "3      1     4\n",
       "4      1     5"
      ]
     },
     "execution_count": 18,
     "metadata": {},
     "output_type": "execute_result"
    }
   ],
   "source": [
    "x_features_object = walmart_data[walmart_data['Store'] ==1][['Store','Date']]\n",
    "date_obj = walmart_data[walmart_data['Store'] ==1][['Date']]\n",
    "date_obj.index +=1\n",
    "x_features_object.Date = date_obj.index\n",
    "x_features_object.head()"
   ]
  },
  {
   "cell_type": "code",
   "execution_count": 19,
   "id": "34a50d61",
   "metadata": {},
   "outputs": [
    {
     "data": {
      "text/plain": [
       "0    1643690.90\n",
       "1    1641957.44\n",
       "2    1611968.17\n",
       "3    1409727.59\n",
       "4    1554806.68\n",
       "Name: Weekly_Sales, dtype: float64"
      ]
     },
     "execution_count": 19,
     "metadata": {},
     "output_type": "execute_result"
    }
   ],
   "source": [
    "y_target = walmart_data[walmart_data['Store'] ==1]['Weekly_Sales']\n",
    "y_target.head()"
   ]
  },
  {
   "cell_type": "code",
   "execution_count": 20,
   "id": "f5787a49",
   "metadata": {},
   "outputs": [],
   "source": [
    "from sklearn.model_selection import train_test_split\n",
    "x_train,x_test,y_train,y_test = train_test_split(x_features_object,y_target,random_state=1)"
   ]
  },
  {
   "cell_type": "code",
   "execution_count": 21,
   "id": "a0d40622",
   "metadata": {},
   "outputs": [
    {
     "data": {
      "text/html": [
       "<div>\n",
       "<style scoped>\n",
       "    .dataframe tbody tr th:only-of-type {\n",
       "        vertical-align: middle;\n",
       "    }\n",
       "\n",
       "    .dataframe tbody tr th {\n",
       "        vertical-align: top;\n",
       "    }\n",
       "\n",
       "    .dataframe thead th {\n",
       "        text-align: right;\n",
       "    }\n",
       "</style>\n",
       "<table border=\"1\" class=\"dataframe\">\n",
       "  <thead>\n",
       "    <tr style=\"text-align: right;\">\n",
       "      <th></th>\n",
       "      <th>Store</th>\n",
       "      <th>CPI</th>\n",
       "      <th>Unemployment</th>\n",
       "      <th>Fuel_Price</th>\n",
       "    </tr>\n",
       "  </thead>\n",
       "  <tbody>\n",
       "    <tr>\n",
       "      <th>0</th>\n",
       "      <td>1</td>\n",
       "      <td>211.096358</td>\n",
       "      <td>8.106</td>\n",
       "      <td>2.572</td>\n",
       "    </tr>\n",
       "    <tr>\n",
       "      <th>1</th>\n",
       "      <td>1</td>\n",
       "      <td>211.242170</td>\n",
       "      <td>8.106</td>\n",
       "      <td>2.548</td>\n",
       "    </tr>\n",
       "    <tr>\n",
       "      <th>2</th>\n",
       "      <td>1</td>\n",
       "      <td>211.289143</td>\n",
       "      <td>8.106</td>\n",
       "      <td>2.514</td>\n",
       "    </tr>\n",
       "    <tr>\n",
       "      <th>3</th>\n",
       "      <td>1</td>\n",
       "      <td>211.319643</td>\n",
       "      <td>8.106</td>\n",
       "      <td>2.561</td>\n",
       "    </tr>\n",
       "    <tr>\n",
       "      <th>4</th>\n",
       "      <td>1</td>\n",
       "      <td>211.350143</td>\n",
       "      <td>8.106</td>\n",
       "      <td>2.625</td>\n",
       "    </tr>\n",
       "  </tbody>\n",
       "</table>\n",
       "</div>"
      ],
      "text/plain": [
       "   Store         CPI  Unemployment  Fuel_Price\n",
       "0      1  211.096358         8.106       2.572\n",
       "1      1  211.242170         8.106       2.548\n",
       "2      1  211.289143         8.106       2.514\n",
       "3      1  211.319643         8.106       2.561\n",
       "4      1  211.350143         8.106       2.625"
      ]
     },
     "execution_count": 21,
     "metadata": {},
     "output_type": "execute_result"
    }
   ],
   "source": [
    "from sklearn.linear_model import LinearRegression\n",
    "linreg = LinearRegression()\n",
    "linreg.fit(x_train,y_train)\n",
    "feature_dataset = walmart_data[walmart_data['Store'] ==1][['Store','CPI','Unemployment','Fuel_Price']]\n",
    "feature_dataset.head()"
   ]
  },
  {
   "cell_type": "code",
   "execution_count": 22,
   "id": "82a98ddd",
   "metadata": {},
   "outputs": [],
   "source": [
    "response_set_cpi = walmart_data[walmart_data['Store'] ==1]['CPI'].astype('int64')\n",
    "response_set_unemployment = walmart_data[walmart_data['Store'] ==1]['Unemployment'].astype('int64')"
   ]
  },
  {
   "cell_type": "code",
   "execution_count": 23,
   "id": "f657a4e3",
   "metadata": {},
   "outputs": [],
   "source": [
    "from sklearn.model_selection import train_test_split\n",
    "\n",
    "x_train_cpi,x_test_cpi,y_train_cpi,y_test_cpi = train_test_split(feature_dataset,response_set_cpi,random_state=1)\n",
    "\n",
    "x_train_unemp, x_test_unemp, y_train_unemp, y_test_unemp = train_test_split(feature_dataset,response_set_unemployment,random_state=1)"
   ]
  },
  {
   "cell_type": "code",
   "execution_count": 34,
   "id": "a7dd1123",
   "metadata": {},
   "outputs": [
    {
     "data": {
      "text/plain": [
       "LogisticRegression(max_iter=10000)"
      ]
     },
     "execution_count": 34,
     "metadata": {},
     "output_type": "execute_result"
    }
   ],
   "source": [
    "from sklearn.linear_model import LogisticRegression\n",
    "\n",
    "logreg = LogisticRegression(max_iter = 10000)\n",
    "logreg.fit(x_train_cpi,y_train_cpi)\n",
    "\n",
    "y_pred = logreg.predict(x_test_cpi)\n",
    "logreg.fit(x_train_unemp,y_train_unemp)"
   ]
  },
  {
   "cell_type": "code",
   "execution_count": 25,
   "id": "a7a86d36",
   "metadata": {},
   "outputs": [],
   "source": [
    "y_pred_unemp = logreg.predict(x_test_unemp)"
   ]
  },
  {
   "cell_type": "code",
   "execution_count": 26,
   "id": "1244ccf9",
   "metadata": {},
   "outputs": [
    {
     "name": "stdout",
     "output_type": "stream",
     "text": [
      "0.6944444444444444\n",
      "0.9444444444444444\n"
     ]
    }
   ],
   "source": [
    "from sklearn import metrics\n",
    "print(metrics.accuracy_score(y_test_cpi,y_pred))\n",
    "print(metrics.accuracy_score(y_test_unemp,y_pred_unemp))"
   ]
  },
  {
   "cell_type": "code",
   "execution_count": 27,
   "id": "84f814bd",
   "metadata": {},
   "outputs": [
    {
     "name": "stdout",
     "output_type": "stream",
     "text": [
      "cpi actual : [215 221 211 211 221 211 210 211 215 217 221 212 216 218 211 210 211 217\n",
      " 215 211 212 217 221 219 214 211 211 219 215 219]\n",
      "cpi Predicted : [215 221 211 211 221 211 211 211 215 215 221 211 215 218 211 211 211 215\n",
      " 215 211 211 217 221 220 215 211 211 221 215 220]\n",
      "actual Unemployment : [7 7 7 8 7 7 7 7 7 7 6 7 7 7 7 7 7 7 7 7 7 7 7 7 7 7 7 7 7 7]\n",
      "Predicted Unemployment : [7 7 7 7 6 7 7 7 7 7 6 7 7 7 7 7 7 7 7 7 7 7 7 7 7 7 7 7 7 7]\n"
     ]
    }
   ],
   "source": [
    "print('cpi actual             :', y_test_cpi.values[0:30])\n",
    "print('cpi Predicted          :', y_pred[0:30])\n",
    "print('actual Unemployment    :', y_test_unemp.values[0:30])\n",
    "print('Predicted Unemployment :', y_pred_unemp[0:30])"
   ]
  },
  {
   "cell_type": "code",
   "execution_count": 28,
   "id": "f94f2c37",
   "metadata": {},
   "outputs": [
    {
     "data": {
      "text/html": [
       "<div>\n",
       "<style scoped>\n",
       "    .dataframe tbody tr th:only-of-type {\n",
       "        vertical-align: middle;\n",
       "    }\n",
       "\n",
       "    .dataframe tbody tr th {\n",
       "        vertical-align: top;\n",
       "    }\n",
       "\n",
       "    .dataframe thead th {\n",
       "        text-align: right;\n",
       "    }\n",
       "</style>\n",
       "<table border=\"1\" class=\"dataframe\">\n",
       "  <thead>\n",
       "    <tr style=\"text-align: right;\">\n",
       "      <th></th>\n",
       "      <th>Store</th>\n",
       "      <th>Date</th>\n",
       "      <th>Weekly_Sales</th>\n",
       "      <th>Holiday_Flag</th>\n",
       "      <th>Temperature</th>\n",
       "      <th>Fuel_Price</th>\n",
       "      <th>CPI</th>\n",
       "      <th>Unemployment</th>\n",
       "      <th>Day</th>\n",
       "    </tr>\n",
       "  </thead>\n",
       "  <tbody>\n",
       "    <tr>\n",
       "      <th>0</th>\n",
       "      <td>1</td>\n",
       "      <td>05-02-2010</td>\n",
       "      <td>1643690.90</td>\n",
       "      <td>0</td>\n",
       "      <td>42.31</td>\n",
       "      <td>2.572</td>\n",
       "      <td>211.096358</td>\n",
       "      <td>8.106</td>\n",
       "      <td>Sunday</td>\n",
       "    </tr>\n",
       "    <tr>\n",
       "      <th>1</th>\n",
       "      <td>1</td>\n",
       "      <td>12-02-2010</td>\n",
       "      <td>1641957.44</td>\n",
       "      <td>1</td>\n",
       "      <td>38.51</td>\n",
       "      <td>2.548</td>\n",
       "      <td>211.242170</td>\n",
       "      <td>8.106</td>\n",
       "      <td>Thursday</td>\n",
       "    </tr>\n",
       "    <tr>\n",
       "      <th>2</th>\n",
       "      <td>1</td>\n",
       "      <td>19-02-2010</td>\n",
       "      <td>1611968.17</td>\n",
       "      <td>0</td>\n",
       "      <td>39.93</td>\n",
       "      <td>2.514</td>\n",
       "      <td>211.289143</td>\n",
       "      <td>8.106</td>\n",
       "      <td>Friday</td>\n",
       "    </tr>\n",
       "    <tr>\n",
       "      <th>3</th>\n",
       "      <td>1</td>\n",
       "      <td>26-02-2010</td>\n",
       "      <td>1409727.59</td>\n",
       "      <td>0</td>\n",
       "      <td>46.63</td>\n",
       "      <td>2.561</td>\n",
       "      <td>211.319643</td>\n",
       "      <td>8.106</td>\n",
       "      <td>Friday</td>\n",
       "    </tr>\n",
       "    <tr>\n",
       "      <th>4</th>\n",
       "      <td>1</td>\n",
       "      <td>05-03-2010</td>\n",
       "      <td>1554806.68</td>\n",
       "      <td>0</td>\n",
       "      <td>46.50</td>\n",
       "      <td>2.625</td>\n",
       "      <td>211.350143</td>\n",
       "      <td>8.106</td>\n",
       "      <td>Monday</td>\n",
       "    </tr>\n",
       "  </tbody>\n",
       "</table>\n",
       "</div>"
      ],
      "text/plain": [
       "   Store        Date  Weekly_Sales  Holiday_Flag  Temperature  Fuel_Price  \\\n",
       "0      1  05-02-2010    1643690.90             0        42.31       2.572   \n",
       "1      1  12-02-2010    1641957.44             1        38.51       2.548   \n",
       "2      1  19-02-2010    1611968.17             0        39.93       2.514   \n",
       "3      1  26-02-2010    1409727.59             0        46.63       2.561   \n",
       "4      1  05-03-2010    1554806.68             0        46.50       2.625   \n",
       "\n",
       "          CPI  Unemployment       Day  \n",
       "0  211.096358         8.106    Sunday  \n",
       "1  211.242170         8.106  Thursday  \n",
       "2  211.289143         8.106    Friday  \n",
       "3  211.319643         8.106    Friday  \n",
       "4  211.350143         8.106    Monday  "
      ]
     },
     "execution_count": 28,
     "metadata": {},
     "output_type": "execute_result"
    }
   ],
   "source": [
    "walmart_data['Day'] = pd.to_datetime(walmart_data['Date']).dt.day_name()\n",
    "walmart_data.head()"
   ]
  },
  {
   "cell_type": "code",
   "execution_count": null,
   "id": "3abbe5ac",
   "metadata": {},
   "outputs": [],
   "source": []
  }
 ],
 "metadata": {
  "kernelspec": {
   "display_name": "Python 3 (ipykernel)",
   "language": "python",
   "name": "python3"
  },
  "language_info": {
   "codemirror_mode": {
    "name": "ipython",
    "version": 3
   },
   "file_extension": ".py",
   "mimetype": "text/x-python",
   "name": "python",
   "nbconvert_exporter": "python",
   "pygments_lexer": "ipython3",
   "version": "3.8.13"
  }
 },
 "nbformat": 4,
 "nbformat_minor": 5
}
